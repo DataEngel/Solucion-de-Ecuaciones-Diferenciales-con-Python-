{
 "cells": [
  {
   "cell_type": "code",
   "execution_count": 4,
   "metadata": {},
   "outputs": [
    {
     "data": {
      "image/png": "[encoded data removed]",
      "text/latex": [
       "$\\displaystyle - 5 f{\\left(x \\right)} + \\frac{d^{2}}{d x^{2}} f{\\left(x \\right)} = 10$"
      ],
      "text/plain": [
       "            2           \n",
       "           d            \n",
       "-5⋅f(x) + ───(f(x)) = 10\n",
       "            2           \n",
       "          dx            "
      ]
     },
     "metadata": {},
     "output_type": "display_data"
    },
    {
     "data": {
      "image/png": "[encoded data removed]",
      "text/latex": [
       "$\\displaystyle f{\\left(x \\right)} = C_{1} e^{- \\sqrt{5} x} + C_{2} e^{\\sqrt{5} x} - 2$"
      ],
      "text/plain": [
       "           -√5⋅x       √5⋅x    \n",
       "f(x) = C₁⋅ℯ      + C₂⋅ℯ     - 2"
      ]
     },
     "execution_count": 4,
     "metadata": {},
     "output_type": "execute_result"
    }
   ],
   "source": [
    "from sympy.interactive import printing \n",
    "printing.init_printing(use_latex=True)\n",
    "from sympy import *\n",
    "import sympy as sp \n",
    "\n",
    "x = sp.symbols('x')\n",
    "f = sp.Function('f')(x)\n",
    "diffeq = Eq(f.diff(x,x)-5*f,10)\n",
    "display(diffeq)\n",
    "\n",
    "dsolve(diffeq,f)"
   ]
  },
  {
   "cell_type": "code",
   "execution_count": null,
   "metadata": {},
   "outputs": [],
   "source": []
  }
 ],
 "metadata": {
  "kernelspec": {
   "display_name": "Python 3",
   "language": "python",
   "name": "python3"
  },
  "language_info": {
   "codemirror_mode": {
    "name": "ipython",
    "version": 3
   },
   "file_extension": ".py",
   "mimetype": "text/x-python",
   "name": "python",
   "nbconvert_exporter": "python",
   "pygments_lexer": "ipython3",
   "version": "3.7.7"
  }
 },
 "nbformat": 4,
 "nbformat_minor": 4
}
